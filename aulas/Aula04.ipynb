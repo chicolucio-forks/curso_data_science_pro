{
  "nbformat": 4,
  "nbformat_minor": 0,
  "metadata": {
    "colab": {
      "name": "Aula04.ipynb",
      "provenance": [],
      "collapsed_sections": [
        "NsQxPvWzw6oF"
      ],
      "toc_visible": true
    },
    "kernelspec": {
      "name": "python3",
      "display_name": "Python 3"
    }
  },
  "cells": [
    {
      "cell_type": "markdown",
      "metadata": {
        "id": "t48XzH3XjlGF",
        "colab_type": "text"
      },
      "source": [
        "# Aula 04 \n",
        "## Controle de qualidade de dados para Data Science"
      ]
    },
    {
      "cell_type": "markdown",
      "metadata": {
        "id": "D1UGygndj02E",
        "colab_type": "text"
      },
      "source": [
        "## Agenda\n",
        "\n",
        "* A importância do controle de qualidade dos dados em Data Science\n",
        "\n",
        "* Outliers\n",
        "\n",
        "* Técnicas mais eficazes para controle de qualidade de dados\n",
        "\n",
        "* Exercício prático: preparação de dados"
      ]
    },
    {
      "cell_type": "markdown",
      "metadata": {
        "id": "OTJzD5xFkJ4T",
        "colab_type": "text"
      },
      "source": [
        "### Porque é importante o controle de qualidade dos dados usados em Data Science?\n",
        "\n",
        "* Garbage-in, garbage-out (GIGO)"
      ]
    },
    {
      "cell_type": "code",
      "metadata": {
        "id": "6WOp9dKxjjH4",
        "colab_type": "code",
        "colab": {}
      },
      "source": [
        "import pandas as pd"
      ],
      "execution_count": null,
      "outputs": []
    },
    {
      "cell_type": "code",
      "metadata": {
        "id": "E3UHB9ZdqDLz",
        "colab_type": "code",
        "colab": {}
      },
      "source": [
        "df = pd.read_csv(r'/content/drive/My Drive/DadosPythonPro/garbage_in.csv')"
      ],
      "execution_count": null,
      "outputs": []
    },
    {
      "cell_type": "code",
      "metadata": {
        "id": "6qFWYxNJtCyj",
        "colab_type": "code",
        "colab": {}
      },
      "source": [
        "df.describe()"
      ],
      "execution_count": null,
      "outputs": []
    },
    {
      "cell_type": "code",
      "metadata": {
        "id": "9wcTgj2otrgm",
        "colab_type": "code",
        "colab": {}
      },
      "source": [
        "pd.set_option('display.float_format', lambda x: '%.5f' % x)"
      ],
      "execution_count": null,
      "outputs": []
    },
    {
      "cell_type": "code",
      "metadata": {
        "id": "2qK9D38ovRSL",
        "colab_type": "code",
        "colab": {}
      },
      "source": [
        "df[df.values > 10000]"
      ],
      "execution_count": null,
      "outputs": []
    },
    {
      "cell_type": "markdown",
      "metadata": {
        "id": "WTIXsEc4vE5k",
        "colab_type": "text"
      },
      "source": [
        "* Tempo computacional\n",
        "* Qualidade da apresentação dos resultados"
      ]
    },
    {
      "cell_type": "markdown",
      "metadata": {
        "id": "2F4tmCub7kAU",
        "colab_type": "text"
      },
      "source": [
        "### Evitando \"garbage\" em Machine Learning"
      ]
    },
    {
      "cell_type": "markdown",
      "metadata": {
        "id": "WSzPcVI67zKi",
        "colab_type": "text"
      },
      "source": [
        "#### Dados imprecisos\n",
        "\n",
        "#### Dados que refletem \"preconceitos humanos\"\n",
        "\n",
        "#### Dados incompletos\n",
        "\n",
        "#### Bias"
      ]
    },
    {
      "cell_type": "markdown",
      "metadata": {
        "id": "GbKpaWTzwafl",
        "colab_type": "text"
      },
      "source": [
        "#### Reflexos em:\n",
        "\n",
        "* Treinamento\n",
        "* Teste\n",
        "* Estimativa"
      ]
    },
    {
      "cell_type": "markdown",
      "metadata": {
        "id": "-fen_8Af8PxR",
        "colab_type": "text"
      },
      "source": [
        "#### **Regra de ouro:** O analista de dados TEM QUE TER conhecimento sobre os dados que ele está analizando.\n",
        "\n",
        "Quanto conhecimento?\n",
        "\n",
        "Todo o conhecimento possível."
      ]
    },
    {
      "cell_type": "markdown",
      "metadata": {
        "id": "ryj5EbXIFDJz",
        "colab_type": "text"
      },
      "source": [
        "#### \"Muitos problemas advém do fato do analista não conhecer os dados e também não conhecer as maneiras pelas quais eles falham\". \n",
        "*Mikey Shulman, ider de machine-learning para a Kensho Technologies.*"
      ]
    },
    {
      "cell_type": "markdown",
      "metadata": {
        "id": "6iC23s6LF8cL",
        "colab_type": "text"
      },
      "source": [
        "#### \"Causo\" do inventário"
      ]
    },
    {
      "cell_type": "markdown",
      "metadata": {
        "id": "3dVa9sgSE9wb",
        "colab_type": "text"
      },
      "source": [
        "### Outliers: técnicas para encontrar e remover"
      ]
    },
    {
      "cell_type": "code",
      "metadata": {
        "id": "AsV1ZV2QE9U0",
        "colab_type": "code",
        "colab": {}
      },
      "source": [
        "import sklearn.datasets as sds\n",
        "import pandas as pd"
      ],
      "execution_count": null,
      "outputs": []
    },
    {
      "cell_type": "code",
      "metadata": {
        "id": "KWvfexCk9bfd",
        "colab_type": "code",
        "colab": {}
      },
      "source": [
        "boston = sds.load_boston()\n",
        "print(type(boston))\n",
        "x = boston.data\n",
        "y = boston.target\n",
        "columns = boston.feature_names\n",
        "\n",
        "boston_df = pd.DataFrame(boston.data)\n",
        "boston_df.columns = columns\n",
        "print(boston_df.count())\n",
        "boston_df.head()\n"
      ],
      "execution_count": null,
      "outputs": []
    },
    {
      "cell_type": "markdown",
      "metadata": {
        "id": "2oHH-9P9J9cJ",
        "colab_type": "text"
      },
      "source": [
        "Descrição: https://www.cs.toronto.edu/~delve/data/boston/bostonDetail.html\n",
        "\n",
        "* CRIM - taxa de criminalidade per capita por cidade\n",
        "* ZN - proporção de terrenos residenciais divididos em lotes com mais de 25.000 pés quadrados.\n",
        "* INDUS - proporção de acres não comerciais por cidade.\n",
        "* CHAS - Variável fictícia Charles River (1 se o trecho limita o rio; 0 caso contrário)\n",
        "* NOX - concentração de óxidos nítricos (partes por 10 milhões)\n",
        "* RM - número médio de quartos por habitação\n",
        "* AGE - proporção de unidades ocupadas pelo proprietário construídas antes de 1940\n",
        "* DIS - distâncias ponderadas para cinco centros de emprego em Boston\n",
        "* RAD - índice de acessibilidade às rodovias radiais\n",
        "* TAX - taxa de imposto sobre a propriedade de valor total por \\$10,000\n",
        "* PTRATIO - proporção aluno-professor por cidade\n",
        "* B - 1000(Bk - 0.63)^2 em que Bk é a proporção de negros por cidade\n",
        "* LSTAT - /% menor status da população\n",
        "* MEDV - Valor médio das casas ocupadas pelos proprietários em US $ 1000"
      ]
    },
    {
      "cell_type": "markdown",
      "metadata": {
        "id": "US6AxsPpaXV7",
        "colab_type": "text"
      },
      "source": [
        "**Método 1:** Boxplot"
      ]
    },
    {
      "cell_type": "code",
      "metadata": {
        "id": "cpK_8UJmIKpN",
        "colab_type": "code",
        "colab": {}
      },
      "source": [
        "import seaborn as sns\n",
        "sns.boxplot(x=boston_df['DIS'])"
      ],
      "execution_count": null,
      "outputs": []
    },
    {
      "cell_type": "markdown",
      "metadata": {
        "id": "dYChHHE6fBTF",
        "colab_type": "text"
      },
      "source": [
        "**Método 2:** Análise de correlação"
      ]
    },
    {
      "cell_type": "code",
      "metadata": {
        "id": "7c_Yw7MVafvw",
        "colab_type": "code",
        "colab": {}
      },
      "source": [
        "boston_df.DIS.describe()"
      ],
      "execution_count": null,
      "outputs": []
    },
    {
      "cell_type": "code",
      "metadata": {
        "id": "2rnjIgmkedjZ",
        "colab_type": "code",
        "colab": {}
      },
      "source": [
        "import matplotlib.pyplot as plt\n",
        "%matplotlib inline\n",
        "\n",
        "plt.figure(figsize= (10,10), dpi=100)\n",
        "sns.heatmap(boston_df.corr())"
      ],
      "execution_count": null,
      "outputs": []
    },
    {
      "cell_type": "code",
      "metadata": {
        "id": "Ozrg5deJLa49",
        "colab_type": "code",
        "colab": {}
      },
      "source": [
        "fig, ax = plt.subplots(figsize=(16,8))\n",
        "ax.scatter(boston_df['INDUS'], boston_df['TAX'])\n",
        "ax.set_xlabel('Proporção de acres não comerciais por cidade')\n",
        "ax.set_ylabel(' Valor médio das casas ocupadas pelos proprietários em US $ 1000')\n",
        "plt.show()"
      ],
      "execution_count": null,
      "outputs": []
    },
    {
      "cell_type": "markdown",
      "metadata": {
        "id": "YPfZkcmoSYLc",
        "colab_type": "text"
      },
      "source": [
        "**Método 3:** Usando uma função matemática para descobrir outliers\n",
        "\n",
        "**Teste Z (Z-Score)**\n",
        "\n",
        "Teste estatístico que pressupõe que a distribuição dos valores se aproxima da Distribuição Normal.\n",
        "\n",
        "**Distribuição Normal**"
      ]
    },
    {
      "cell_type": "code",
      "metadata": {
        "id": "b6OQhmnRLs_v",
        "colab_type": "code",
        "colab": {}
      },
      "source": [
        "import numpy as np\n",
        "import scipy.stats as stats\n",
        "import math\n",
        "\n",
        "mu = 0\n",
        "variance = 1\n",
        "sigma = math.sqrt(variance)\n",
        "x = np.linspace(mu - 3*sigma, mu + 3*sigma, 100)\n",
        "plt.plot(x, stats.norm.pdf(x, mu, sigma))\n",
        "plt.show()"
      ],
      "execution_count": null,
      "outputs": []
    },
    {
      "cell_type": "markdown",
      "metadata": {
        "id": "b0P4po2GhDXe",
        "colab_type": "text"
      },
      "source": [
        "#### Verificando se a distribuição é normal\n",
        "\n"
      ]
    },
    {
      "cell_type": "code",
      "metadata": {
        "id": "LEMDtEZ3hdDu",
        "colab_type": "code",
        "colab": {}
      },
      "source": [
        "plt.hist(boston_df.TAX)"
      ],
      "execution_count": null,
      "outputs": []
    },
    {
      "cell_type": "code",
      "metadata": {
        "id": "JaXMSlI6hvKm",
        "colab_type": "code",
        "colab": {}
      },
      "source": [
        ""
      ],
      "execution_count": null,
      "outputs": []
    },
    {
      "cell_type": "code",
      "metadata": {
        "id": "jedtVBbDWNME",
        "colab_type": "code",
        "colab": {}
      },
      "source": [
        "from scipy import stats\n",
        "z = np.abs(stats.zscore(boston_df))\n",
        "print(z)"
      ],
      "execution_count": null,
      "outputs": []
    },
    {
      "cell_type": "code",
      "metadata": {
        "id": "gkS2IE5nX5E5",
        "colab_type": "code",
        "colab": {}
      },
      "source": [
        "threshold = 3\n",
        "print(np.where(z > 3))"
      ],
      "execution_count": null,
      "outputs": []
    },
    {
      "cell_type": "markdown",
      "metadata": {
        "id": "LWMFTxCvYvMV",
        "colab_type": "text"
      },
      "source": [
        "**Saída:** O primeiro array contém uma lista de linhas e o segundo array uma lista de colunas. Assim, z[55][1] tem um Z-score maior que três. Isso significa que, se considerarmos o valor do limiar = 3, esse dado é um outlier."
      ]
    },
    {
      "cell_type": "code",
      "metadata": {
        "id": "DibwwphnYSDU",
        "colab_type": "code",
        "colab": {}
      },
      "source": [
        "z[55][1]"
      ],
      "execution_count": null,
      "outputs": []
    },
    {
      "cell_type": "markdown",
      "metadata": {
        "id": "3E-t4jyrbg-q",
        "colab_type": "text"
      },
      "source": [
        "**Método 4:** Score IQR (Faixa interquartis)\n",
        "\n",
        "*IQR = Q3 − Q1*"
      ]
    },
    {
      "cell_type": "code",
      "metadata": {
        "id": "XL8dlWSDZeIa",
        "colab_type": "code",
        "colab": {}
      },
      "source": [
        "Q1 = boston_df.quantile(0.25)\n",
        "Q3 = boston_df.quantile(0.75)\n",
        "IQR = Q3 - Q1\n",
        "print(IQR)\n"
      ],
      "execution_count": null,
      "outputs": []
    },
    {
      "cell_type": "markdown",
      "metadata": {
        "id": "S7BECTWNc4VS",
        "colab_type": "text"
      },
      "source": [
        "#### Removendo os outliers"
      ]
    },
    {
      "cell_type": "markdown",
      "metadata": {
        "id": "mQTtndkcihed",
        "colab_type": "text"
      },
      "source": [
        "a) Encontrados pela distribuição"
      ]
    },
    {
      "cell_type": "code",
      "metadata": {
        "id": "cUGFBF3HcuP8",
        "colab_type": "code",
        "colab": {}
      },
      "source": [
        "print(boston_df.shape)\n",
        "boston_df_o = boston_df[(z < 3).all(axis=1)]\n",
        "print(boston_df_o.shape)"
      ],
      "execution_count": null,
      "outputs": []
    },
    {
      "cell_type": "markdown",
      "metadata": {
        "id": "757c4JUqm50Y",
        "colab_type": "text"
      },
      "source": [
        "b: Encontrado pelo IQR"
      ]
    },
    {
      "cell_type": "code",
      "metadata": {
        "id": "MIQ9I1CsdBjt",
        "colab_type": "code",
        "colab": {}
      },
      "source": [
        "boston_df_out = boston_df_o[~((boston_df_o < (Q1 - 1.5 * IQR)) |(boston_df_o > (Q3 + 1.5 * IQR))).any(axis=1)]\n",
        "print(boston_df_out.shape)"
      ],
      "execution_count": null,
      "outputs": []
    }
  ]
}