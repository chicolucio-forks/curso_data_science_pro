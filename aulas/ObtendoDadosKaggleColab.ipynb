{
  "nbformat": 4,
  "nbformat_minor": 0,
  "metadata": {
    "colab": {
      "name": "ObtendoDadosKaggleColab.ipynb",
      "provenance": [],
      "toc_visible": true
    },
    "kernelspec": {
      "name": "python3",
      "display_name": "Python 3"
    }
  },
  "cells": [
    {
      "cell_type": "markdown",
      "metadata": {
        "id": "NsQxPvWzw6oF",
        "colab_type": "text"
      },
      "source": [
        "### Adicionando dados Kaggle ao Colab\n",
        "\n",
        "* Crie sua conta no Kaggle\n",
        "* Crie um arquivo kaggle.json (https://www.kaggle.com/mauroassis/account)\n",
        "* Coloque num diretório para dados Kaggle no seu Drive\n",
        " "
      ]
    },
    {
      "cell_type": "code",
      "metadata": {
        "id": "-svudY7YzUSx",
        "colab_type": "code",
        "colab": {}
      },
      "source": [
        "import os\n",
        "os.environ['KAGGLE_CONFIG_DIR'] = \"/content/drive/My Drive/DadosPythonPro/Kaggle\"\n",
        "%cd /content/drive/My Drive/DadosPythonPro/Kaggle\n",
        "% ls"
      ],
      "execution_count": null,
      "outputs": []
    },
    {
      "cell_type": "markdown",
      "metadata": {
        "id": "6j4KLlCu0S5T",
        "colab_type": "text"
      },
      "source": [
        "* Copiar e executar o comando da API (https://www.kaggle.com/c/zillow-prize-1/data)\n",
        "\n"
      ]
    },
    {
      "cell_type": "code",
      "metadata": {
        "id": "SPMUv57z1jOI",
        "colab_type": "code",
        "colab": {}
      },
      "source": [
        "!pip install --upgrade --force-reinstall --no-deps kaggle\n",
        "!kaggle competitions download -c zillow-prize-1"
      ],
      "execution_count": null,
      "outputs": []
    },
    {
      "cell_type": "code",
      "metadata": {
        "id": "0N_w4ibl39on",
        "colab_type": "code",
        "colab": {}
      },
      "source": [
        "!ls"
      ],
      "execution_count": null,
      "outputs": []
    },
    {
      "cell_type": "code",
      "metadata": {
        "id": "Z-S-FEoA4Bok",
        "colab_type": "code",
        "colab": {}
      },
      "source": [
        "!unzip \\*.zip  && rm *.zip"
      ],
      "execution_count": null,
      "outputs": []
    },
    {
      "cell_type": "markdown",
      "metadata": {
        "id": "ieqq_aSp-6Yv",
        "colab_type": "text"
      },
      "source": [
        "* Carregar o dado"
      ]
    },
    {
      "cell_type": "code",
      "metadata": {
        "id": "iSKmn_L3-4Va",
        "colab_type": "code",
        "colab": {}
      },
      "source": [
        "import pandas as pd\n",
        "df = pd.read_csv(r'/content/drive/My Drive/DadosPythonPro/Kaggle/properties_2017.csv')"
      ],
      "execution_count": null,
      "outputs": []
    }
  ]
}